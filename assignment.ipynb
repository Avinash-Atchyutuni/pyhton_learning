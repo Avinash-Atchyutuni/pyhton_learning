{
 "cells": [
  {
   "cell_type": "code",
   "execution_count": 13,
   "metadata": {},
   "outputs": [
    {
     "name": "stdin",
     "output_type": "stream",
     "text": [
      "enter a password Asda180500@1\n"
     ]
    },
    {
     "name": "stdout",
     "output_type": "stream",
     "text": [
      "False\n"
     ]
    }
   ],
   "source": [
    "def strength(password):\n",
    "    f=0\n",
    "    if len(password)<10:\n",
    "        return False\n",
    "    else:\n",
    "        for i in password:\n",
    "            if i.isupper()==True:\n",
    "                f+=1\n",
    "            \n",
    "            elif i.islower()==True:\n",
    "                f+=1\n",
    "          \n",
    "            elif i.isnumeric()==True:\n",
    "                f+=1\n",
    "            else:\n",
    "                return False\n",
    "                \n",
    "            \n",
    "    if  f>=10:\n",
    "        return True\n",
    "  \n",
    "       \n",
    "            \n",
    "         \n",
    "\n",
    "\n",
    "\n",
    "\n",
    "\n",
    "\n",
    "\n",
    "\n",
    "\n",
    "password = input(\"enter a password\")\n",
    "print(strength(password))\n",
    "\n",
    "    "
   ]
  },
  {
   "cell_type": "code",
   "execution_count": 45,
   "metadata": {},
   "outputs": [
    {
     "name": "stdin",
     "output_type": "stream",
     "text": [
      "enter a string uuuiii0987887878887jjjbbb\n"
     ]
    },
    {
     "name": "stdout",
     "output_type": "stream",
     "text": [
      "(3, 'b')\n"
     ]
    }
   ],
   "source": [
    "def max_letter(str1):\n",
    "    str2=str1.lower()   \n",
    "    max=0\n",
    "    min=0\n",
    "    k=\"\"\n",
    "    l=[]\n",
    "    for i in str1:\n",
    "        c = str2.count(i)\n",
    "       \n",
    "        if c >=max and i.isalpha()==True:\n",
    "            max=c\n",
    "            p = ord(i)\n",
    "            l.append(p)\n",
    "    l.sort()        \n",
    "    k=chr(l[0])        \n",
    "    return max,k\n",
    "\n",
    "\n",
    "\n",
    "str1=input(\"enter a string\")\n",
    "print(max_letter(str1))"
   ]
  },
  {
   "cell_type": "code",
   "execution_count": 8,
   "metadata": {},
   "outputs": [
    {
     "name": "stdout",
     "output_type": "stream",
     "text": [
      "[10, 9, 10, 10, 9]\n"
     ]
    }
   ],
   "source": [
    "def non_unique(l):\n",
    "    l2=[]\n",
    "    for i in l:\n",
    "        if l.count(i)>1:\n",
    "            l2.append(i)\n",
    "    return l2       \n",
    "l=[10,9,10,10,9,8]  \n",
    "print(non_unique(l))\n",
    "            "
   ]
  },
  {
   "cell_type": "code",
   "execution_count": 21,
   "metadata": {},
   "outputs": [
    {
     "name": "stdin",
     "output_type": "stream",
     "text": [
      "enter a string Lorem ipsum dolor sit amet, consectetuer adipiscing elit.\n"
     ]
    },
    {
     "name": "stdout",
     "output_type": "stream",
     "text": [
      "1\n"
     ]
    }
   ],
   "source": [
    "def monkey_typing(str1,l2):\n",
    "    c=0\n",
    "    for i in l2:\n",
    "        if str1.count(i)==1 and i in str1:\n",
    "            c+=1;\n",
    "    return c\n",
    "str1=input(\"enter a string\") \n",
    "l2=[\"sum\", \"hamlet\", \"infinity\", \"anything\"]\n",
    "print(monkey_typing(str1,l2))\n",
    "            \n",
    "        \n",
    "        "
   ]
  },
  {
   "cell_type": "code",
   "execution_count": 5,
   "metadata": {},
   "outputs": [
    {
     "name": "stdin",
     "output_type": "stream",
     "text": [
      "enter a string ddvvrwwwrggg\n"
     ]
    },
    {
     "name": "stdout",
     "output_type": "stream",
     "text": [
      "3\n"
     ]
    }
   ],
   "source": [
    "def longest(str1):\n",
    "    str2 = \"abcdefghijklmnopqrstuvwxyz\"\n",
    "    max=0\n",
    "    k=\"\"\n",
    "    for i in str2:\n",
    "        if str1.count(i)>max:\n",
    "            max=str1.count(i)\n",
    "    return max\n",
    "str1 = input(\"enter a string\")\n",
    "print(longest(str1))\n",
    "\n",
    "        \n",
    "        "
   ]
  },
  {
   "cell_type": "code",
   "execution_count": null,
   "metadata": {},
   "outputs": [],
   "source": []
  }
 ],
 "metadata": {
  "kernelspec": {
   "display_name": "Python 3",
   "language": "python",
   "name": "python3"
  },
  "language_info": {
   "codemirror_mode": {
    "name": "ipython",
    "version": 3
   },
   "file_extension": ".py",
   "mimetype": "text/x-python",
   "name": "python",
   "nbconvert_exporter": "python",
   "pygments_lexer": "ipython3",
   "version": "3.7.0"
  }
 },
 "nbformat": 4,
 "nbformat_minor": 2
}
